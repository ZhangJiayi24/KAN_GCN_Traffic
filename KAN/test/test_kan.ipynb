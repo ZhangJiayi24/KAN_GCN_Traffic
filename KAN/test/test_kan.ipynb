{
 "cells": [
  {
   "cell_type": "code",
   "execution_count": 1,
   "id": "e58889b6-cf02-43dc-9147-e2faf90eedfd",
   "metadata": {},
   "outputs": [],
   "source": [
    "import torch\n",
    "import torch.nn as nn\n",
    "from tqdm import tqdm\n",
    "import sys\n",
    "sys.path.append('/root/pygcn/KAN/')\n",
    "from efficient_kan import KAN\n"
   ]
  },
  {
   "cell_type": "code",
   "execution_count": 2,
   "id": "824efb13-626e-4083-a451-b5c4c0379ff6",
   "metadata": {},
   "outputs": [],
   "source": [
    "def test_mul():\n",
    "    kan = KAN([2, 2, 1], base_activation=nn.Identity)\n",
    "    optimizer = torch.optim.LBFGS(kan.parameters(), lr=0.01)\n",
    "    with tqdm(range(100)) as pbar:\n",
    "        for i in pbar:\n",
    "            loss, reg_loss = None, None\n",
    "\n",
    "            def closure():\n",
    "                optimizer.zero_grad()\n",
    "                x = torch.rand(1024, 2)\n",
    "                y = kan(x, update_grid=(i % 20 == 0))\n",
    "\n",
    "                assert y.shape == (1024, 1)\n",
    "                nonlocal loss, reg_loss\n",
    "                u = x[:, 0]\n",
    "                v = x[:, 1]\n",
    "                loss = nn.functional.mse_loss(y.squeeze(-1), (u + v) / (1 + u * v))\n",
    "                reg_loss = kan.regularization_loss(1, 0)\n",
    "                (loss + 1e-5 * reg_loss).backward()\n",
    "                return loss + reg_loss\n",
    "\n",
    "            optimizer.step(closure)\n",
    "            pbar.set_postfix(mse_loss=loss.item(), reg_loss=reg_loss.item())\n",
    "    for layer in kan.layers:\n",
    "        print(layer.spline_weight)"
   ]
  },
  {
   "cell_type": "code",
   "execution_count": 3,
   "id": "be4c681c-5a88-4b07-825b-132b193dd70d",
   "metadata": {},
   "outputs": [
    {
     "name": "stderr",
     "output_type": "stream",
     "text": [
      "100%|██████████| 100/100 [00:13<00:00,  7.47it/s, mse_loss=0.272, reg_loss=0.037]"
     ]
    },
    {
     "name": "stdout",
     "output_type": "stream",
     "text": [
      "Parameter containing:\n",
      "tensor([[[-2.3287e-07, -1.1657e-06,  1.2044e-06,  1.2311e-06,  5.7441e-07,\n",
      "          -4.7940e-07, -8.2431e-07,  1.0370e-07],\n",
      "         [ 3.2427e-07, -6.4477e-08, -1.8308e-06,  1.3025e-06,  7.0478e-07,\n",
      "           6.8023e-07, -5.0191e-07, -1.3001e-07]],\n",
      "\n",
      "        [[-7.3482e-09, -3.6562e-08, -7.9247e-08,  1.7031e-07,  2.0228e-07,\n",
      "          -1.4799e-07, -6.6688e-08,  1.2810e-08],\n",
      "         [ 1.0623e-08,  2.3835e-08, -6.1538e-08,  4.7462e-08,  3.5137e-08,\n",
      "          -4.4629e-08,  1.3413e-08,  7.5484e-09]]], requires_grad=True)\n",
      "Parameter containing:\n",
      "tensor([[[-9.1601e-07, -1.7218e-06,  1.3411e-06,  1.0660e-06, -7.3104e-07,\n",
      "           4.8550e-07, -4.0431e-07,  3.5600e-08],\n",
      "         [ 1.5891e-02, -1.5247e-02, -2.6624e-02, -3.4371e-02, -4.7528e-02,\n",
      "          -5.7160e-02, -4.9101e-02, -4.9666e-02]]], requires_grad=True)\n"
     ]
    },
    {
     "name": "stderr",
     "output_type": "stream",
     "text": [
      "\n"
     ]
    }
   ],
   "source": [
    "test_mul()"
   ]
  },
  {
   "cell_type": "code",
   "execution_count": null,
   "id": "50e62ea0-1fc6-4a11-9fa2-de1e894699c2",
   "metadata": {},
   "outputs": [],
   "source": []
  }
 ],
 "metadata": {
  "kernelspec": {
   "display_name": "Python 3 (ipykernel)",
   "language": "python",
   "name": "python3"
  },
  "language_info": {
   "codemirror_mode": {
    "name": "ipython",
    "version": 3
   },
   "file_extension": ".py",
   "mimetype": "text/x-python",
   "name": "python",
   "nbconvert_exporter": "python",
   "pygments_lexer": "ipython3",
   "version": "3.12.3"
  }
 },
 "nbformat": 4,
 "nbformat_minor": 5
}
